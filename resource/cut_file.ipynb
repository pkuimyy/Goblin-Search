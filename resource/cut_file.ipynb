{
 "cells": [
  {
   "cell_type": "code",
   "execution_count": 1,
   "metadata": {},
   "outputs": [],
   "source": [
    "import re\n",
    "from pprint import pprint as myprint"
   ]
  },
  {
   "cell_type": "code",
   "execution_count": 2,
   "metadata": {},
   "outputs": [
    {
     "name": "stdout",
     "output_type": "stream",
     "text": [
      "('\\ufeffFN Clarivate Analytics Web of Science\\n'\n",
      " 'VR 1.0\\n'\n",
      " 'PT J\\n'\n",
      " 'AU Siqueira, Alvaro Martins\\n'\n",
      " 'TI CRITICAL REALISM AND THE ONTOLOGICAL CRITIQUE OF ECONOMICS METHODOLOGY\\n'\n",
      " 'SO EPISTEMOLOGY & PHILOSOPHY OF SCIENCE-EPISTEMOLOGIYA I FILOSOFIYA NAUKI\\n'\n",
      " 'VL 55\\n'\n",
      " 'IS 3\\n'\n",
      " 'BP 188\\n'\n",
      " 'EP 201\\n'\n",
      " 'DI 10.5840/eps201855357\\n'\n",
      " 'PD 2018\\n'\n",
      " 'PY 2018\\n'\n",
      " 'AB The objective of this paper is to defend the importance of ontological\\n'\n",
      " '   critique of the mainstream economics. To do so, we examine the\\n'\n",
      " '   methodological arguments of Tony Lawson who, inspired by the critical\\n'\n",
      " '   realism philosophy, advocates in favor of realistic, non-deductive and\\n'\n",
      " '   ontology-aware economics to solve problems of contemporary economic\\n'\n",
      " '   theory. This article proposes that, although correct in the logic of its\\n'\n",
      " \"   argument, Lawson's critique of the mainstream is not able to explain the\\n\"\n",
      " \"   social reasons for its existence and reproduction. And if so, Lawson's\\n\"\n",
      " '   critique is not ontological. It can be stated that a project of\\n'\n",
      " '   generally reorienting economics methodology is impossible in case the\\n'\n",
      " '   social reason for its orthodox existence is maintained. Some substantial\\n'\n",
      " \"   insights can be found in the Marx's ontological critique of capitalism\\n\"\n",
      " '   and also in the Critical Realism philosophy. Therefore, we propose an\\n'\n",
      " '   explanation for the enduring deductivism and empirical realism in\\n'\n",
      " '   economics from a Marxist perspective.\\n'\n",
      " 'ZR 0\\n'\n",
      " 'ZS 0\\n'\n",
      " 'ZB 0\\n'\n",
      " 'Z8 0\\n'\n",
      " 'TC 0\\n'\n",
      " 'Z9 0\\n'\n",
      " 'U1 0\\n'\n",
      " 'U2 0\\n'\n",
      " 'SN 1811-833X\\n'\n",
      " 'EI 2311-7133\\n'\n",
      " 'UT WOS:000447370500016\\n'\n",
      " 'ER')\n"
     ]
    }
   ],
   "source": [
    "file = open(\"raw_file/en1.txt\",\"r\",encoding=\"utf-8\")\n",
    "raw_text = file.read()\n",
    "file.close()\n",
    "raw_list = raw_text.split(\"\\n\\n\")\n",
    "myprint(raw_list[0])"
   ]
  },
  {
   "cell_type": "code",
   "execution_count": 3,
   "metadata": {},
   "outputs": [],
   "source": [
    "# re_string = r\"AU (.*)TI (.*)SO (.*) AB(.*) ZR\"\n",
    "re_string = r\"AU (.*?)\\n.*TI (.*?)\\n.*SO (.*?)\\n.*AB (.*?)\\n[A-Z0-9]{2} \"\n",
    "#写代码以来，写得最长的正则表达式。。。\n",
    "re_pattern = re.compile(re_string,re.S|re.M)"
   ]
  },
  {
   "cell_type": "code",
   "execution_count": 4,
   "metadata": {},
   "outputs": [],
   "source": [
    "for i,sub_file_string in enumerate(raw_list):\n",
    "#     if i!=25:\n",
    "#         continue\n",
    "    match_obj = re_pattern.search(sub_file_string)\n",
    "    if(match_obj == None):\n",
    "        continue\n",
    "    #有的没有摘要\n",
    "    file = open(\"cutted_file/en/\"+str(i)+\".txt\",\"w\",encoding=\"utf-8\")\n",
    "    file.write(\"AU \"+match_obj.group(1)+\"\\n\")\n",
    "    file.write(\"TI \"+match_obj.group(2)+\"\\n\")\n",
    "    file.write(\"SO \"+match_obj.group(3)+\"\\n\")\n",
    "    file.write(\"AB \"+match_obj.group(4).replace(\"\\n\",\"\")+\"\\n\")\n",
    "    file.close()"
   ]
  }
 ],
 "metadata": {
  "kernelspec": {
   "display_name": "Python 3",
   "language": "python",
   "name": "python3"
  },
  "language_info": {
   "codemirror_mode": {
    "name": "ipython",
    "version": 3
   },
   "file_extension": ".py",
   "mimetype": "text/x-python",
   "name": "python",
   "nbconvert_exporter": "python",
   "pygments_lexer": "ipython3",
   "version": "3.7.0"
  }
 },
 "nbformat": 4,
 "nbformat_minor": 2
}
